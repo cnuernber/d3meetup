{
 "cells": [
  {
   "cell_type": "markdown",
   "metadata": {},
   "source": [
    "# An Alternate Universe\n",
    "\n",
    "In an alternate universe there exists a language named Clojure that makes programming complex things enjoyable and fun.  It has a very strong functional background and lots of great libraries and some intelligent users.  Here it enjoys the popularity it deserves and has all the great things written for you.\n",
    "\n",
    "\n",
    "In this universe, we can do basic statistical analysis and we can easily write extensions to the system we are working with in the language we like, they run instantly and create joy.  Let's take a short walk through that universe."
   ]
  },
  {
   "cell_type": "markdown",
   "metadata": {},
   "source": [
    "## A Short Digression: LISP\n",
    "\n",
    "Clojure is an implementation of a dialect of languages named LISP.  This version of LISP runs on the jvm.  Being a LISP means that it is homoiconic, or that programs in clojure are expressed in the datastructures of clojure.  Many great minds have worked to design this modern LISP and it has an extremely well though out foundation.   \n",
    "\n",
    "LISP as a language was designed by John McCarthy in 1955.  You can find some interesting information about it [here](http://www.paulgraham.com/rootsoflisp.html).  It was the first language with garbage collection and also was the first high level language assuming you do not believe that fortran is a high level language.\n",
    "\n",
    "Let's take a second and familiarize with things here."
   ]
  },
  {
   "cell_type": "code",
   "execution_count": null,
   "metadata": {},
   "outputs": [],
   "source": [
    ";; The language is described using its datastructures...\n",
    "\n",
    ";; This is a list:\n",
    "\n",
    "(list 1 2 3)"
   ]
  },
  {
   "cell_type": "code",
   "execution_count": null,
   "metadata": {},
   "outputs": [],
   "source": [
    ";; This is also a list\n",
    "\n",
    "'(1 2 3)"
   ]
  },
  {
   "cell_type": "code",
   "execution_count": null,
   "metadata": {},
   "outputs": [],
   "source": [
    ";; Lists can be executed.  If the reader finds a list that isn't 'escaped'\n",
    ";; it will ask the compiler to output code to execute the expression.\n",
    "\n",
    "(+ 1 2 3)"
   ]
  },
  {
   "cell_type": "code",
   "execution_count": null,
   "metadata": {},
   "outputs": [],
   "source": [
    ";; Vectors in clojure are functional datastructures\n",
    ";; that have very good random access semantics.\n",
    "\n",
    "[1 2 3 4]"
   ]
  },
  {
   "cell_type": "code",
   "execution_count": null,
   "metadata": {},
   "outputs": [],
   "source": [
    ";; They can work like functions\n",
    "\n",
    "([4 1 3 2] 0)"
   ]
  },
  {
   "cell_type": "code",
   "execution_count": null,
   "metadata": {},
   "outputs": [],
   "source": [
    ";; Keywords are global constants, like names and they start with a ':'\n",
    "\n",
    ":one"
   ]
  },
  {
   "cell_type": "code",
   "execution_count": null,
   "metadata": {},
   "outputs": [],
   "source": [
    ";; Maps (functional equivalent of a python dictionary) are curly braced:\n",
    "\n",
    "{:a 1 :b 2}"
   ]
  },
  {
   "cell_type": "code",
   "execution_count": null,
   "metadata": {},
   "outputs": [],
   "source": [
    ";; You can find things in maps in lots of ways, but maps with keyword keys are\n",
    ";; more special than other maps.\n",
    "\n",
    ";; Retrieving the value stored under key \"one\"\n",
    "(println (get {\"one\" 1 \"two\" 2} \"one\"))\n",
    "\n",
    ";; Retrieving the value stored under the keyword key :one, we can use the\n",
    ";; function syntax.\n",
    "(:one {:one \"hi\" :two \"bye\"})"
   ]
  },
  {
   "cell_type": "code",
   "execution_count": null,
   "metadata": {},
   "outputs": [],
   "source": [
    ";; If you add something to a vector or a map, you get a new map that \n",
    ";; shares structure with the previous item.  This means the previous \n",
    ";; item is unchanged\n",
    "\n",
    "(def first-list [1 2 3 4])\n",
    "\n",
    "(println (conj first-list 5))\n",
    "(println (assoc first-list 0 6))\n",
    "first-list"
   ]
  },
  {
   "cell_type": "markdown",
   "metadata": {},
   "source": [
    "#### And Off We Go!\n",
    "\n",
    "In the interests of time, we have to move on.  I hope you liked our small intro and that it allows the next section to be perhaps less mysterious"
   ]
  },
  {
   "cell_type": "markdown",
   "metadata": {},
   "source": [
    "## We Get The Things\n",
    "\n",
    "In clojure, the dependencies are expressed by the program and not as much by the environment.  So this means that you don't install things to your environment to run them.  Instead, you include the dependency in your project. "
   ]
  },
  {
   "cell_type": "code",
   "execution_count": null,
   "metadata": {},
   "outputs": [],
   "source": [
    ";;Grab the big things we will be using.\n",
    "(require '[clojupyter.misc.helper :as helper])\n",
    ";;these are order dependent because oz indirectly includes jna 3.2.2 and \n",
    ";; tech.jna requires jna 5.0.0\n",
    "(helper/add-dependencies '[techascent/tech.ml \"0.27\"])\n",
    "(helper/add-dependencies '[metasoarous/oz \"1.6.0-alpha2\"])\n",
    "(helper/add-dependencies '[cnuernber/garmin-fit-clj \"0.1\"])\n",
    "(require '[cemerick.pomegranate :as pg])\n",
    "\n",
    ";;We need the fit jar to make this all work.\n",
    "(pg/add-classpath \"resources/fit.jar\")\n",
    "\n",
    ";;You didn't want to see that output anyway, trust me...\n",
    ":ok"
   ]
  },
  {
   "cell_type": "code",
   "execution_count": null,
   "metadata": {},
   "outputs": [],
   "source": [
    ";; I wrote a library for you guys!!\n",
    "(require '[cnuernber.garmin-fit :as fit])\n",
    "\n",
    "\n",
    "(require '[tech.ml.dataset :as ds])\n",
    "(require '[tech.ml.dataset.column :as ds-col])\n",
    "(require '[tech.ml.dataset.etl :as etl])\n",
    "(require '[tech.compute.tensor.functional :as tens-fun])\n",
    "(require '[clojure.core.matrix :as m])\n",
    "(require '[clojure.set :as c-set])\n",
    "(require '[clojure.pprint :as pp])\n",
    "(require '[oz.notebook.clojupyter :as oz])\n",
    "(import '[java.time Duration])\n"
   ]
  },
  {
   "cell_type": "markdown",
   "metadata": {},
   "source": [
    "## Sequences\n",
    "\n",
    "We load the data.  This produces a datastructure called a sequence.  This is similar to a singly-linked list but it isn't constructed of nodes.  It is a functional datastructure, however, and we can manipulate it in various ways.\n",
    "The file is a sequence of maps and the `:event-type` member of each map tells you what you are looking at.  One thing to note is that sequences are lazy so this doesn't load the entire file.  It loads only what you are looking at."
   ]
  },
  {
   "cell_type": "code",
   "execution_count": null,
   "metadata": {},
   "outputs": [],
   "source": [
    "(def test-fname \"data/activities/81623728.fit.gz\")\n",
    "\n",
    "(pp/pprint (take 6 (fit/decode test-fname)))"
   ]
  },
  {
   "cell_type": "markdown",
   "metadata": {},
   "source": [
    "## Functions\n",
    "\n",
    "We now define our first function.  It takes a filename and produces a dataset consisting of records of a given type.  The dataset system knows how to take a sequence of maps (what we produced above) and translate those maps into a column-major dataset object that stores the column data efficiently.  We do have to make sure the values in each map are scalars which they should be logically for this dataset."
   ]
  },
  {
   "cell_type": "code",
   "execution_count": null,
   "metadata": {},
   "outputs": [],
   "source": [
    "(defn fit-file->dataset\n",
    "  [fname]\n",
    "  (ds/->dataset\n",
    "   (->> (fit/decode fname)\n",
    "        (filter #(= :record-message (:event-type %)))\n",
    "        (map (fn [record-data]\n",
    "               (->> (dissoc record-data :event-type)\n",
    "                    (map (fn [[k v]]\n",
    "                           [k (if (sequential? v)\n",
    "                                (first v)\n",
    "                                v)]))\n",
    "                    (into {})))))\n",
    "   {:table-name fname}))\n",
    "\n",
    "\n",
    "(defonce test-ds (fit-file->dataset fit/test-fname))\n",
    "\n",
    "\n",
    "(ds/select test-ds :all (range 5))"
   ]
  },
  {
   "cell_type": "markdown",
   "metadata": {},
   "source": [
    "## Moar Functions!!\n",
    "\n",
    "1. We have to do a bit of dataset processing.  For this dataset we choose to just drop any rows with missing data.\n",
    "2. Next we have a function to find the overall duration of the dataset which is expressed as `(- (max :timestamp) (min :timestamp))` \n",
    "3.  Some work to convert from semicircular coordinates to lat-long and build a pipeline of sequential processing commands."
   ]
  },
  {
   "cell_type": "code",
   "execution_count": null,
   "metadata": {},
   "outputs": [],
   "source": [
    "(defn drop-missing\n",
    "  [dataset]\n",
    "  (let [missing-indexes (->> (ds/columns-with-missing-seq dataset)\n",
    "                             (mapcat (fn [{:keys [column-name]}]\n",
    "                                       (-> (ds/column dataset column-name)\n",
    "                                           ds-col/missing)))\n",
    "                             set)]\n",
    "    (ds/select dataset :all  (->> (range (second (m/shape dataset)))\n",
    "                                  (remove missing-indexes)))))\n",
    "\n",
    "\n",
    "(defn ds-duration\n",
    "  \"Duration in seconds of the entire ride.\"\n",
    "  [dataset]\n",
    "  (let [{act-min :min\n",
    "         act-max :max}\n",
    "        (-> (ds/column dataset :timestamp)\n",
    "            (ds-col/stats [:min :max]))]\n",
    "    (Duration/ofSeconds\n",
    "     (- (long act-max) (long act-min)))))\n",
    "\n",
    "(def semi->deg\n",
    "  (/ 180.0\n",
    "     (Math/pow 2 31)))\n",
    "\n",
    "\n",
    "(def lat-lon [:position-lat :position-long] )\n",
    "\n",
    "\n",
    "(def load-pipeline\n",
    "  [['m= lat-lon '(* (col) 8.381903171539307E-8)]\n",
    "   '[m= :altitude-norm (/ (- (col :altitude) (min (col :altitude)))\n",
    "                          (- (max (col :altitude)) (min (col :altitude))))]\n",
    "   '[m= :speed-mph (* (col :speed) 2.23694)]])\n",
    "\n",
    "\n",
    "(defn run-pipeline\n",
    "  [dataset & {:keys [target] :as options}]\n",
    "  (-> (drop-missing dataset)\n",
    "      (etl/apply-pipeline load-pipeline options)\n",
    "      :dataset\n",
    "      ;;Make handling the data in the browser sane.\n",
    "      (#(ds/ds-take-nth 10 %))\n",
    "      (etl/apply-pipeline '[[m= :speed-avg (rolling 20 :mean (col :speed-mph))]\n",
    "                            [m= :power-avg (rolling 20 :mean (col :power))]\n",
    "                            [m= :cadence-avg (rolling 20 :mean (col :cadence))]\n",
    "                            [m= :minutes-from-start (/ (- (col :timestamp)\n",
    "                                                          (min (col :timestamp)))\n",
    "                                                       60)]]\n",
    "                          {})))\n",
    "\n"
   ]
  },
  {
   "cell_type": "markdown",
   "metadata": {},
   "source": [
    "## Run The Functions!!\n",
    "\n",
    "We now process the dataset and produce a new dataset.  Dataset processing is functional so processing a column produces a new column.  Processing a dataset producess...Well, a few things.  One of them is a new dataset.\n",
    "\n",
    "Another is a new pipeline with the intermediate values calculated embedded datastructure.  So you can use the produced pipeline in production without having to reengineer it."
   ]
  },
  {
   "cell_type": "code",
   "execution_count": null,
   "metadata": {},
   "outputs": [],
   "source": [
    "(def processed-pipeline (run-pipeline test-ds))\n",
    "\n",
    "(def processed-ds (:dataset processed-pipeline))\n",
    "\n",
    "(ds/select processed-ds :all (range 5))"
   ]
  },
  {
   "cell_type": "markdown",
   "metadata": {},
   "source": [
    "## That Was Great!  Now What?\n",
    "\n",
    "We take our dataset object and convert it back into a sequence of maps.  Sequences of maps are something that clojure's core algorithm facilities handle robustly so if we can we would like to be speaking in that language."
   ]
  },
  {
   "cell_type": "code",
   "execution_count": null,
   "metadata": {},
   "outputs": [],
   "source": [
    "(def all-the-data (-> (ds/select processed-ds\n",
    "                                 (concat lat-lon\n",
    "                                         [:timestamp :altitude :power :speed-mph\n",
    "                                          :minutes-from-start\n",
    "                                          :cadence :power-avg :speed-avg :cadence-avg])\n",
    "                                 :all)\n",
    "                      (ds/->flyweight)))\n",
    "\n",
    "(pp/pprint (first all-the-data))"
   ]
  },
  {
   "cell_type": "markdown",
   "metadata": {},
   "source": [
    "At this point we calculate some intermediate values which we will use when visualizing the data."
   ]
  },
  {
   "cell_type": "code",
   "execution_count": null,
   "metadata": {},
   "outputs": [],
   "source": [
    "(def timestamp-data (ds-col/stats (ds/column processed-ds :timestamp)\n",
    "                                  [:min :max]))\n",
    "\n",
    "(def minutes-range (ds-col/stats (ds/column processed-ds :minutes-from-start)\n",
    "                                  [:min :max]))\n",
    "\n",
    "(def altitude-data (ds-col/stats (ds/column processed-ds\n",
    "                                            :altitude)\n",
    "                                 [:min :max]))\n",
    "\n",
    "(def latitude-range (mapv (ds-col/stats (ds/column processed-ds :position-lat)\n",
    "                                        [:min :max])\n",
    "                          [:min :max]))\n",
    "\n",
    "(def longitude-range (mapv (ds-col/stats (ds/column processed-ds :position-long)\n",
    "                                         [:min :max])\n",
    "                           [:min :max]))\n",
    "\n",
    "(pp/pprint [timestamp-data minutes-range altitude-data])"
   ]
  },
  {
   "cell_type": "markdown",
   "metadata": {},
   "source": [
    "## Off The Charts!\n",
    "\n",
    "We take our processed dataset and our sequence of maps and output something called hiccup.  Hiccup really is HTML but encoded in clojure datastructures and keywords.  So you have a vector of intermixed more vectors and keywords.  Some strings.  And a few maps.\n",
    "\n",
    "That is it, however.  That really is the absolute core of clojure.  A datastructure.  And powerful tools to transform from one datastructure to another datastructure.  On top of this we can actually build anything.\n",
    "\n",
    "But I Digress...\n",
    "\n",
    "\n",
    "### Vega and Vega-lite\n",
    "\n",
    "\n",
    "Now we get into Vega-lite.  This is documented library to make building graphs and charts using the vega visual language easier.  Vega is built on top of d3 and takes inspiration from libraries such as R's ggplot2 library. For more information on vega-lite, go [here](https://vega.github.io/vega-lite/).\n",
    "\n",
    "We show all the features here because we are running out of time. The most important takeaway is that regardless of language you speak to vega (and vega-lite) in terms of datastructures.  "
   ]
  },
  {
   "cell_type": "code",
   "execution_count": null,
   "metadata": {},
   "outputs": [],
   "source": [
    "(defn duration->str\n",
    "  [^Duration dur]\n",
    "  (.toString dur))\n",
    "\n",
    "(def chart-width 600)\n",
    "(def chart-height 150)\n",
    "\n",
    "\n",
    "(def view-ds\n",
    "  [:div\n",
    "   [:h2 (format \"Behold - %s - %s\"\n",
    "                (ds/dataset-name processed-ds)\n",
    "                (duration->str (ds-duration processed-ds)))]\n",
    "   [:h3 \"Dashboard\"]\n",
    "   [:vega-lite {:data {:values all-the-data}\n",
    "                :vconcat [{:projection {:type :albersUsa}\n",
    "                           :width chart-width\n",
    "                           :height chart-height\n",
    "                           :mark :circle\n",
    "                           :encoding {:latitude {:field (first lat-lon)\n",
    "                                                 :type :quantitative}\n",
    "                                      :longitude {:field (second lat-lon)\n",
    "                                                  :type :quantitative}\n",
    "                                      :color {:condition {:selection :times\n",
    "                                                          :field :altitude\n",
    "                                                          :type :quantitative\n",
    "                                                          :scale {:range [:darkblue :lightblue]}}\n",
    "                                               :value :lightgreen}}}\n",
    "                          {\n",
    "                           :hconcat\n",
    "                           [{:width (/ chart-width 2)\n",
    "                             :height chart-height\n",
    "                             :mark :point\n",
    "                             :selection {:times {:type :interval}}\n",
    "                             :encoding\n",
    "                             {:x {:field :minutes-from-start\n",
    "                                  :type :quantitative\n",
    "                                  :scale {:domain\n",
    "                                          [(:min minutes-range)\n",
    "                                           (:max minutes-range)]}}\n",
    "                              :y {:field :altitude\n",
    "                                  :type :quantitative\n",
    "                                  :scale {:domain [(:min altitude-data)\n",
    "                                                   (:max altitude-data)]}}\n",
    "                              :color {:field :altitude\n",
    "                                      :type :quantitative\n",
    "                                      :scale {:range [:darkblue :lightblue]}}}}\n",
    "                            {:layer [{:width (/ chart-width 2)\n",
    "                                      :height chart-height\n",
    "                                      :mark :point\n",
    "                                      :selection {:times {:type :interval}}\n",
    "                                      :encoding {:x {:field :minutes-from-start\n",
    "                                                     :type :quantitative\n",
    "                                                     :scale {:domain\n",
    "                                                             [(:min minutes-range)\n",
    "                                                              (:max minutes-range)]}}\n",
    "                                                 :y {:field :speed-mph\n",
    "                                                     :type :quantitative}}}\n",
    "                                     {:mark {:type :line\n",
    "                                             :color :yellow}\n",
    "                                      :encoding {:x {:field :minutes-from-start\n",
    "                                                     :type :quantitative\n",
    "                                                     :scale {:domain\n",
    "                                                             [(:min minutes-range)\n",
    "                                                              (:max minutes-range)]}}\n",
    "                                                 :y {:field :speed-avg\n",
    "                                                     :type :quantitative}}}]}]}\n",
    "                          {:hconcat\n",
    "                           [{:layer [{:width (/ chart-width 2)\n",
    "                                      :height chart-height\n",
    "                                      :mark :point\n",
    "                                    :selection {:times {:type :interval}}\n",
    "                                    :encoding {:x {:field :minutes-from-start\n",
    "                                                   :type :quantitative\n",
    "                                                   :scale {:domain\n",
    "                                                           [(:min minutes-range)\n",
    "                                                            (:max minutes-range)]}}\n",
    "                                               :y {:field :power\n",
    "                                                   :type :quantitative}}}\n",
    "                                     {:width (/ chart-width 2)\n",
    "                                      :height chart-height\n",
    "                                      :mark {:type :line\n",
    "                                           :color :yellow}\n",
    "                                    :encoding {:x {:field :minutes-from-start\n",
    "                                                   :type :quantitative\n",
    "                                                   :scale {:domain\n",
    "                                                           [(:min minutes-range)\n",
    "                                                            (:max minutes-range)]}}\n",
    "                                               :y {:field :power-avg\n",
    "                                                   :type :quantitative}}}]}\n",
    "                            {:layer [{:width (/ chart-width 2)\n",
    "                                      :height chart-height\n",
    "                                      :mark :point\n",
    "                                      :selection {:times {:type :interval}}\n",
    "                                      :encoding {:x {:field :minutes-from-start\n",
    "                                                     :type :quantitative\n",
    "                                                     :scale {:domain\n",
    "                                                             [(:min minutes-range)\n",
    "                                                              (:max minutes-range)]}}\n",
    "                                                 :y {:field :cadence\n",
    "                                                     :type :quantitative}}}\n",
    "                                     {:width (/ chart-width 2)\n",
    "                                      :height chart-height\n",
    "                                      :mark {:type :line\n",
    "                                             :color :yellow}\n",
    "                                      :encoding {:x {:field :minutes-from-start\n",
    "                                                     :type :quantitative\n",
    "                                                     :scale {:domain\n",
    "                                                             [(:min minutes-range)\n",
    "                                                              (:max minutes-range)]}}\n",
    "                                                 :y {:field :cadence-avg\n",
    "                                                     :type :quantitative}}}]}]}\n",
    "\n",
    "                          ]}]])"
   ]
  },
  {
   "cell_type": "code",
   "execution_count": null,
   "metadata": {},
   "outputs": [],
   "source": [
    "(first view-ds)"
   ]
  },
  {
   "cell_type": "code",
   "execution_count": null,
   "metadata": {},
   "outputs": [],
   "source": [
    "(second view-ds)"
   ]
  },
  {
   "cell_type": "markdown",
   "metadata": {},
   "source": [
    "## And It Is Done!\n",
    "\n",
    "Viewing the charts is simple.  And check it out--interactivity works!!  Selecting data on any of the scatter/line charts below will change the display of the geographic chart."
   ]
  },
  {
   "cell_type": "code",
   "execution_count": null,
   "metadata": {
    "scrolled": false
   },
   "outputs": [],
   "source": [
    "(oz/view! view-ds)"
   ]
  }
 ],
 "metadata": {
  "kernelspec": {
   "display_name": "Clojure",
   "language": "clojure",
   "name": "clojure"
  },
  "language_info": {
   "file_extension": ".clj",
   "mimetype": "text/x-clojure",
   "name": "clojure",
   "version": "1.10.0"
  }
 },
 "nbformat": 4,
 "nbformat_minor": 2
}
